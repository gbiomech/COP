{
 "cells": [
  {
   "cell_type": "code",
   "execution_count": null,
   "metadata": {},
   "outputs": [],
   "source": [
    "# import the necessary libraries\n",
    "import numpy as np\n",
    "from scipy import stats"
   ]
  },
  {
   "cell_type": "code",
   "execution_count": null,
   "metadata": {},
   "outputs": [],
   "source": [
    "F = lambda p, n: np.sqrt(stats.f.ppf(0.95, p, n-p)*(n-1)*p*(n+1)/n/(n-p))  # F distribution\n",
    "N = stats.norm.ppf(0.975)                                                  # Normal distribution\n",
    "for i in [1000, 100, 30, 10]:\n",
    "    print('\\nApproximation error for n = %d' %i)\n",
    "    print('Using Normal distribution: %.1f%%' % (100*(N-F(1, i))/F(1, i)))"
   ]
  },
  {
   "cell_type": "code",
   "execution_count": null,
   "metadata": {},
   "outputs": [],
   "source": [
    "C = lambda p: np.sqrt(stats.chi2.ppf(0.95, p))  # Chi-square distribution\n",
    "R = stats.rayleigh.ppf(0.95)                    # Rayleigh distribution\n",
    "for i in [1000, 100, 30, 10]:\n",
    "    print('\\nApproximation error for n = %d' %i) \n",
    "    print('Using Chi-square distribution: %.1f%%' % (100*(C(2)-F(2, i))/F(2, i)))\n",
    "    print('Using Rayleigh distribution: %.1f%%' % (100*(R-F(2, i))/F(2, i)))"
   ]
  },
  {
   "cell_type": "code",
   "execution_count": null,
   "metadata": {},
   "outputs": [],
   "source": [
    "import matplotlib.pyplot as plt\n",
    "%matplotlib inline\n",
    "import sys\n",
    "sys.path.insert(1, r'./../functions')  # add to pythonpath \n",
    "from hyperellipsoid import hyperellipsoid"
   ]
  },
  {
   "cell_type": "code",
   "execution_count": null,
   "metadata": {},
   "outputs": [],
   "source": [
    "y = np.cumsum(np.random.randn(3000)) / 50\n",
    "x = np.cumsum(np.random.randn(3000)) / 100\n",
    "fig, ax = plt.subplots(1, 1, figsize=(8, 3))\n",
    "ax.plot(x, 'b')"
   ]
  },
  {
   "cell_type": "code",
   "execution_count": null,
   "metadata": {},
   "outputs": [],
   "source": [
    "y = np.cumsum(np.random.randn(3000)) / 50\n",
    "x = np.cumsum(np.random.randn(3000)) / 100\n",
    "area, axes, angles, center, R = hyperellipsoid(x, y, units='cm', show=True)\n",
    "print('Area =', area)\n",
    "print('Semi-axes =', axes)\n",
    "print('Angles =', angles)\n",
    "print('Center =', center)\n",
    "print('Rotation matrix =\\n', R)"
   ]
  }
 ],
 "metadata": {
  "kernelspec": {
   "display_name": "Python 3",
   "language": "python",
   "name": "python3"
  },
  "language_info": {
   "codemirror_mode": {
    "name": "ipython",
    "version": 3
   },
   "file_extension": ".py",
   "mimetype": "text/x-python",
   "name": "python",
   "nbconvert_exporter": "python",
   "pygments_lexer": "ipython3",
   "version": "3.6.5"
  }
 },
 "nbformat": 4,
 "nbformat_minor": 2
}
