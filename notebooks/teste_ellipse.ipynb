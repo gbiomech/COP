{
 "cells": [
  {
   "cell_type": "code",
   "execution_count": null,
   "metadata": {},
   "outputs": [],
   "source": [
    "import matplotlib.pyplot as plt\n",
    "%matplotlib inline\n",
    "import sys\n",
    "sys.path.insert(1, r'./../functions')  # add to pythonpath \n",
    "from hyperellipsoid import hyperellipsoid"
   ]
  },
  {
   "cell_type": "code",
   "execution_count": null,
   "metadata": {},
   "outputs": [],
   "source": [
    "import pandas as pd  # use Pandas to read data from a website\n",
    "fileUrl = 'http://www.udel.edu/biology/rosewc/kaap686/reserve/cop/copdata.txt'\n",
    "COP = pd.read_table(fileUrl, skipinitialspace=True, sep=None, engine='python')  # Pandas dataframe\n",
    "COP = COP.values / 10  # mm to cm\n",
    "freq = 100\n",
    "\n",
    "CoPap = COP[:,0]\n",
    "CoPml = COP[:,1]"
   ]
  },
  {
   "cell_type": "code",
   "execution_count": null,
   "metadata": {},
   "outputs": [],
   "source": [
    "import pandas as pd  # use Pandas to read data from a website\n",
    "fileUrl = 'http://www.udel.edu/biology/rosewc/kaap686/reserve/cop/copdata.txt'\n",
    "COP = pd.read_table(fileUrl, skipinitialspace=True, sep=None, engine='python')  # Pandas dataframe\n",
    "COP = COP.values / 10  # mm to cm\n",
    "freq = 100\n",
    "\n",
    "CoPap = COP[:,0]\n",
    "CoPml = COP[:,1]"
   ]
  },
  {
   "cell_type": "code",
   "execution_count": null,
   "metadata": {},
   "outputs": [],
   "source": [
    "# plot data\n",
    "cop_plot(freq, COP)"
   ]
  },
  {
   "cell_type": "code",
   "execution_count": null,
   "metadata": {},
   "outputs": [],
   "source": [
    "area, axes, angles, center, R = hyperellipsoid(CoPap, CoPml, units='cm', show=True)\n",
    "print('Area =', area)\n",
    "print('Semi-axes =', axes)\n",
    "print('Angles =', angles)\n",
    "print('Center =', center)\n",
    "print('Rotation matrix =\\n', R)"
   ]
  }
 ],
 "metadata": {
  "kernelspec": {
   "display_name": "Python 3",
   "language": "python",
   "name": "python3"
  },
  "language_info": {
   "codemirror_mode": {
    "name": "ipython",
    "version": 3
   },
   "file_extension": ".py",
   "mimetype": "text/x-python",
   "name": "python",
   "nbconvert_exporter": "python",
   "pygments_lexer": "ipython3",
   "version": "3.6.5"
  }
 },
 "nbformat": 4,
 "nbformat_minor": 2
}
